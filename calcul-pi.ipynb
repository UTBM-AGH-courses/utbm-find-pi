{
 "cells": [
  {
   "cell_type": "markdown",
   "metadata": {},
   "source": [
    "**Approximation du nombre $\\pi$**\n",
    "==================\n",
    "\n",
    "Le nombre $\\pi$ est un nombre qui a toujours fasciné les mathématiciens,\n",
    "notamment sa suite infine de décimales. C'est une des constantes les\n",
    "plus importantes en mathématiques, que l'on retrouve dans différentes\n",
    "formules qui régissent les lois de l'univers, en géométrie,\n",
    "probabilités, trigonométrie, intégration, physique, ingénierie, et bien\n",
    "sûr en informatique. Disposer d'une approximation numérique de ce nombre\n",
    "devient alors une nécessité pour les scientifiques, ingénieurs,\n",
    "enseignants et étudiants. Comme vu en cours et TD, certains nombres\n",
    "réels ne sont pas calculables par une Machine de Turing. Malheureusement,\n",
    "c'est le cas pour le nombre $\\pi$.\n",
    "\n",
    "\n",
    "Le but ce projet est de présenter quelques méthodes, basées sur\n",
    "deux principes mathématiques différents, pour calculer une approximation\n",
    "du nombre $\\pi$. Certaines méthodes peuvent être plus ou moins efficaces\n",
    "(convergence, précision) en fonction du nombre d'itérations, et il\n",
    "pourrait être intéressant de pouvoir étudier ces différences."
   ]
  },
  {
   "attachments": {
    "image_pi.png": {
     "image/png": "[encoded data removed]"
    }
   },
   "cell_type": "markdown",
   "metadata": {},
   "source": [
    "Méthode des séries\n",
    "==================\n",
    "\n",
    "Somme des inverses des carrés\n",
    "-----------------------------\n",
    "\n",
    "Dans cette sous-section on s'intéresse à la convergence de la série\n",
    "$\\sum \\frac{1}{n^2}$, et on se propose de (re)démontrer que cette série\n",
    "converge vers $\\frac{\\pi^2}{6}$. Pour ce faire, on utilise le\n",
    "développement en série de Fourier d'une fonction $f$ définie par le\n",
    "graphique suivant :\n",
    "![image_pi.png](attachment:image_pi.png)"
   ]
  },
  {
   "cell_type": "markdown",
   "metadata": {},
   "source": [
    "La fonction $f$ est 2$\\pi$-périodique, valant 1 sur l'intervalle\n",
    "$]0,\\pi[$, $-1$ sur l'intervalle $]-\\pi,0[$, et vérifiant\n",
    "$f(-\\pi)=f(0)=f(\\pi)=0$. Le développement en série de Fourier $S_N(f)$\n",
    "de la fonction $f$ est défini (dans sa variante réelle) par :\n",
    "\n",
    "$$S_N(f) = a_0 + \\sum_{n=1}^{N} a_n \\cos(nt) + \\sum_{n=1}^{N} b_n \\sin(nt)$$\n",
    "\n",
    "avec $\\forall n \\in \\mathbb{N}^*$\n",
    "\n",
    "$$a_0 = \\frac{1}{2\\pi} \\int_{0}^{2\\pi} f(t) dt$$\n",
    "$$a_n = \\frac{2}{2\\pi} \\int_{0}^{2\\pi} f(t) \\cos(nt) dt$$\n",
    "$$b_n  = \\frac{2}{2\\pi} \\int_{0}^{2\\pi} f(t) \\sin(nt) dt$$\n",
    "\n",
    "1.  Montrer que $a_0 = 0$, et que $\\forall n \\geqslant 1$, $a_n=0$ et\n",
    "    $b_n = \\dfrac{4}{2\\pi} \\left( \\dfrac{1 - \\cos(n\\pi)}{n} \\right)$"
   ]
  },
  {
   "cell_type": "markdown",
   "metadata": {},
   "source": [
    "_____________________________________________\n",
    "- Démontrons que $a_0 = 0$\n",
    " \n",
    "$$a_0 = \\frac{1}{2\\pi} \\int_{0}^{2\\pi} f(t) dt$$\n",
    "$$a_0 = \\frac{1}{2\\pi} \\left(  \\int_{0}^{\\pi} f(t) dt + \\int_{\\pi}^{2\\pi} f(t) dt \\right)$$\n",
    "$$a_0 = \\frac{1}{2\\pi} \\left(  \\int_{0}^{\\pi} 1 dt + \\int_{\\pi}^{2\\pi} (-1) dt \\right)$$\n",
    "$$a_0 = \\frac{1}{2\\pi} \\left(  [t]_{0}^{\\pi} - [t]_{\\pi}^{2\\pi} \\right)$$\n",
    "$$a_0 = \\frac{1}{2\\pi} \\left(  [\\pi - 0 ] - [{2\\pi} - {\\pi}]\\right)$$\n",
    "$$a_0 = \\frac{1}{2\\pi} \\left( \\pi - \\pi \\right)$$\n",
    "$$a_0 = 0$$\n",
    "\n",
    " - Démontrons que $\\forall n \\geqslant 1$, $a_n=0$\n",
    " \n",
    " Développons d'abord $a_n$ :\n",
    "\n",
    "\n",
    "$$a_n = \\frac{2}{2\\pi} \\int_{0}^{2\\pi} f(t) \\cos(nt) dt$$\n",
    "$$a_n = \\frac{2}{2\\pi} \\left( \\int_{0}^{\\pi} f(t) \\cos(nt) dt + \\int_{\\pi}^{2\\pi} f(t) \\cos(nt) dt \\right)$$\n",
    "$$a_n = \\frac{2}{2\\pi} \\left( \\int_{0}^{\\pi} 1 \\cos(nt) dt + \\int_{\\pi}^{2\\pi} (-1) \\cos(nt) dt \\right)$$\n",
    "$$a_n = \\frac{2}{2\\pi} \\left( \\int_{0}^{\\pi} \\cos(nt) dt - \\int_{\\pi}^{2\\pi} \\cos(nt) dt \\right)$$\n",
    "\n",
    "$$a_n = \\frac{2}{2\\pi} \\left( \\left[(1/n)\\sin(nt) \\right]^{\\pi}_{0} +  \\left[-(1/n)\\sin(nt) \\right]^{2\\pi}_{\\pi} \\right) $$ \n",
    "$$a_n = \\frac{2}{2\\pi} \\left( (1/n) \\left[\\sin(n\\pi) - \\sin(0) \\right] - (1/n) \\left[\\sin(2n\\pi) - \\sin(n\\pi) \\right] \\right) $$\n",
    "$$a_n = \\frac{2}{2\\pi} \\left( \\frac{\\sin(n\\pi)}{n}  - \\frac{\\sin(2n\\pi) - \\sin(n\\pi) }{n} \\right) $$\n",
    "$$a_n = \\frac{2}{2\\pi} \\left( \\frac{2{\\sin(n\\pi)} - \\sin(2n\\pi)}{n} \\right) $$\n",
    "\n",
    "\n",
    "or, pour $n \\geqslant 1$, on a ${\\sin(n\\pi)} = {\\sin(2n\\pi)}$ et ainsi $a_n = 0$\n",
    "\n",
    "- Démontrons que $b_n = \\dfrac{4}{2\\pi} \\left( \\dfrac{1 - \\cos(n\\pi)}{n} \\right)$, $\\forall n \\geqslant 1$\n",
    "\n",
    "Développons d'abord $b_n$ :\n",
    "\n",
    "$$b_n  = \\frac{2}{2\\pi} \\int_{0}^{2\\pi} f(t) \\sin(nt) dt$$\n",
    "$$b_n = \\frac{2}{2\\pi} \\left( \\int_{0}^{\\pi} f(t) \\sin(nt) dt + \\int_{\\pi}^{2\\pi} f(t) \\sin(nt) dt \\right)$$\n",
    "$$b_n = \\frac{2}{2\\pi} \\left( \\int_{0}^{\\pi} 1 \\sin(nt) dt + \\int_{\\pi}^{2\\pi} (-1) \\sin(nt) dt \\right)$$\n",
    "$$b_n = \\frac{2}{2\\pi} \\left( \\int_{0}^{\\pi} \\sin(nt) dt - \\int_{\\pi}^{2\\pi} \\sin(nt) dt \\right)$$\n",
    "\n",
    "$$b_n = \\frac{2}{2\\pi} \\left( \\left[-(1/n)\\cos(nt) \\right]^{\\pi}_{0} -  \\left[-(1/n)\\cos(nt) \\right]^{2\\pi}_{\\pi} \\right) $$\n",
    "$$b_n = \\frac{2}{2\\pi} \\left( -(1/n) \\left[\\cos(n\\pi) - \\cos(0) \\right] + (1/n) \\left[\\cos(2n\\pi) - \\cos(n\\pi) \\right] \\right)$$\n",
    "$$b_n = \\frac{2}{2\\pi} \\left( -(1/n) \\left[\\cos(n\\pi) - 1) \\right] + (1/n) \\left[1 - \\cos(n\\pi) \\right] \\right)$$\n",
    "\n",
    "\n",
    "car on a $n \\geqslant 1$, donc $\\cos(2n\\pi) = 1$, et ainsi :\n",
    "\n",
    "$$b_n = \\frac{2}{2\\pi} \\left( (2/n) \\left[1 - \\cos(n\\pi) \\right] \\right)$$\n",
    "$$b_n = \\dfrac{4}{2\\pi} \\left( \\dfrac{1 - \\cos(n\\pi)}{n} \\right)$$\n",
    "_____________________________________________"
   ]
  },
  {
   "cell_type": "markdown",
   "metadata": {},
   "source": [
    "2.  En étudiant la parité de $n$, en déduire que pour tout entier\n",
    "    naturel $p$, $b_{2p} = 0$ et $b_{2p+1} = \\dfrac{4}{(2p+1)\\pi}$"
   ]
  },
  {
   "cell_type": "markdown",
   "metadata": {},
   "source": [
    "_____________________________________________\n",
    "On sait que $cos(n\\pi) = -1$ pour n impair et $cos(n\\pi) = 1$ pour n pair.\n",
    "\n",
    "Ainsi, pour $n = 2p+1$, on a $b_n = \\dfrac{4}{n\\pi} = \\dfrac{4}{(2p+1)\\pi} = b_{2p+1}$ et donc $b_{2p} = 0$.\n",
    "_____________________________________________\n"
   ]
  },
  {
   "cell_type": "markdown",
   "metadata": {},
   "source": [
    "3.  On rappelle le Théorème de Parseval :\n",
    "\n",
    "    Soit $f$ une fonction continue par morceau, et 2$\\pi$-périodique.\n",
    "    Alors on a l'égalité suivante :\n",
    "    $$\\frac{1}{2\\pi} \\int_{0}^{2\\pi}|f(t)|^2dt=  |a_0|^2 + \\frac{1}{2} \\left( \\sum_{n=1}^{+\\infty}|a_n|^2 + |b_n|^2 \\right)$$\n",
    "    vec $a_n$ et $b_n$ désignant les coefficients de Fourier réels de\n",
    "    $f$.\n",
    "\n",
    "    En appliquant le théorème de Parseval à la fonction $f$,\n",
    "    montrer que $$\\label{serie2}\n",
    "    \\sum_{p=0}^{+\\infty} \\dfrac{1}{(2p+1)^2} = \\dfrac{\\pi^2}{8}$$\n",
    "    Cette série sera appelée la *série impaire*."
   ]
  },
  {
   "cell_type": "markdown",
   "metadata": {},
   "source": [
    "_____________________________________________\n",
    "$$\\frac{1}{2\\pi} \\int_{0}^{2\\pi}|f(t)|^2dt =  |a_0|^2 + \\frac{1}{2} \\left( \\sum_{n=1}^{+\\infty}|a_n|^2 + |b_n|^2 \\right)$$\n",
    "$$\\frac{1}{2\\pi} \\left(  \\int_{0}^{\\pi} |f(t)|^2 dt + \\int_{\\pi}^{2\\pi} |f(t)|^2 dt \\right) = 0 + \\frac{1}{2} \\left( \\sum_{n=1}^{+\\infty}0 + |\\frac{4}{n\\pi}|^2 \\right)$$\n",
    "$$\\frac{1}{2\\pi} \\left(  \\int_{0}^{\\pi} 1 dt + \\int_{\\pi}^{2\\pi} 1 dt \\right) = \\frac{1}{2} \\left( \\sum_{n=1}^{+\\infty} \\frac{16}{n^2\\pi^2} \\right)$$\n",
    "\n",
    "$$\\frac{1}{2\\pi} \\left(  [t]_{0}^{\\pi} + [t]_{\\pi}^{2\\pi} \\right) =  \\sum_{n=1}^{+\\infty} \\frac{8}{n^2\\pi^2} $$\n",
    "$$ 1 =  \\sum_{n=1}^{+\\infty} \\frac{8}{n^2\\pi^2} $$\n",
    "$$ 1 =  \\frac{8}{\\pi^2} \\left(\\sum_{n=1}^{+\\infty} \\frac{1}{n^2} \\right)$$\n",
    "$$ \\frac{\\pi^2}{8} = \\sum_{n=1}^{+\\infty} \\frac{1}{n^2} $$\n",
    "\n",
    "Et en posant $n = 2p+1$, on a : \n",
    "\n",
    "\n",
    "$$ \\frac{\\pi^2}{8} = \\sum_{p=0}^{+\\infty} \\frac{1}{(2p+1)^2} $$\n",
    "\n",
    "_____________________________________________"
   ]
  },
  {
   "cell_type": "markdown",
   "metadata": {},
   "source": [
    "4.  En remarquant que\n",
    "    $$\\sum_{n=1}^{2N} \\frac{1}{n^2} = \\sum_{p=1}^{N} \\frac{1}{(2p)^2} + \\sum_{p=0}^{N-1} \\frac{1}{(2p+1)^2}$$\n",
    "\n",
    "    , en simplifiant l'expression puis en passant à la limite en\n",
    "    l'infini, montrer que :\n",
    "\n",
    "    $$\\sum_{n=1}^{+\\infty} \\frac{1}{n^2} = \\frac{1}{4} \\sum_{n=1}^{+\\infty} \\frac{1}{n^2} + \\frac{\\pi^2}{8}$$"
   ]
  },
  {
   "cell_type": "markdown",
   "metadata": {},
   "source": [
    "_____________________________________________\n",
    "En décomponsant (et en passant à $+\\infty$) on a :\n",
    "\n",
    "- $$\\sum_{n=1}^{2N} \\frac{1}{n^2} => \\sum_{n=1}^{+\\infty} \\frac{1}{n^2}$$\n",
    "- $$\\sum_{p=0}^{N-1} \\frac{1}{(2p+1)^2} => \\sum_{p=0}^{+\\infty} \\frac{1}{(2p+1)^2} = \\frac{\\pi^2}{8}$$\n",
    "- $$\\sum_{p=1}^{N} \\frac{1}{(2p)^2} = \\sum_{n=1}^{N} \\frac{1}{(2n)^2} => \\sum_{n=1}^{+\\infty} \\frac{1}{(2n)^2} =\\frac{1}{4} \\sum_{n=1}^{+\\infty} \\frac{1}{n^2} $$\n",
    "\n",
    "\n",
    "Donc $$\\sum_{n=1}^{+\\infty} \\frac{1}{n^2} = \\frac{1}{4} \\sum_{n=1}^{+\\infty} \\frac{1}{n^2} + \\frac{\\pi^2}{8}$$\n",
    "\n",
    "_____________________________________________\n"
   ]
  },
  {
   "cell_type": "markdown",
   "metadata": {},
   "source": [
    "5.  Finalement, en déduirela valeur de la *série paire*\n",
    "\n",
    "    $$\\label{serie1}\n",
    "     \\sum_{n=1}^{+\\infty} \\frac{1}{n^2}$$"
   ]
  },
  {
   "cell_type": "markdown",
   "metadata": {},
   "source": [
    "_____________________________________________\n",
    "On sait que :\n",
    "\n",
    "\n",
    "$$\\sum_{n=1}^{+\\infty} \\frac{1}{n^2} = \\frac{1}{4} \\sum_{n=1}^{+\\infty} \\frac{1}{n^2} + \\frac{\\pi^2}{8}$$\n",
    "$$ \\frac{3}{4} \\sum_{n=1}^{+\\infty} \\frac{1}{n^2} =  \\frac{\\pi^2}{8}$$\n",
    "$$ \\sum_{n=1}^{+\\infty} \\frac{1}{n^2} =  \\frac{\\pi^2}{8}.\\frac{4}{3} $$\n",
    "$$ \\sum_{n=1}^{+\\infty} \\frac{1}{n^2} =  \\frac{\\pi^2}{6} $$\n",
    "\n",
    "_____________________________________________"
   ]
  },
  {
   "cell_type": "markdown",
   "metadata": {},
   "source": [
    "Implémentations\n",
    "======================\n",
    "\n",
    "**1)  Implémenter une fonction** *SerieInvCarres(N)* **renvoyant calculant les\n",
    "    $N$ premiers termes de la somme $$\\sum_{n=1}^{N} \\frac{1}{n^2}$$**"
   ]
  },
  {
   "cell_type": "code",
   "execution_count": 1,
   "metadata": {},
   "outputs": [],
   "source": [
    "def SerieInvCarres(N):\n",
    "    somme = 0\n",
    "    for i in range(1, N):\n",
    "        somme += 1/i**2\n",
    "    return somme"
   ]
  },
  {
   "cell_type": "code",
   "execution_count": 2,
   "metadata": {},
   "outputs": [
    {
     "data": {
      "text/plain": [
       "1.3611111111111112"
      ]
     },
     "execution_count": 2,
     "metadata": {},
     "output_type": "execute_result"
    }
   ],
   "source": [
    "SerieInvCarres(4)"
   ]
  },
  {
   "cell_type": "markdown",
   "metadata": {},
   "source": [
    "**2)  Implémenter une fonction** *SerieInvCarresImpairs(N)* **renvoyant\n",
    "    calculant les $N$ premiers termes de la somme.\n",
    "    $$\\sum_{n=0}^{N} \\frac{1}{(2n+1)^2}$$**"
   ]
  },
  {
   "cell_type": "code",
   "execution_count": 3,
   "metadata": {},
   "outputs": [],
   "source": [
    "def SerieInvCarresImpairs(N):\n",
    "    somme = 0\n",
    "    for i in range(0, N):\n",
    "        somme += 1/(2*i+1)**2\n",
    "    return somme"
   ]
  },
  {
   "cell_type": "code",
   "execution_count": 4,
   "metadata": {},
   "outputs": [
    {
     "data": {
      "text/plain": [
       "1.1715192743764173"
      ]
     },
     "execution_count": 4,
     "metadata": {},
     "output_type": "execute_result"
    }
   ],
   "source": [
    "SerieInvCarresImpairs(4)"
   ]
  },
  {
   "cell_type": "markdown",
   "metadata": {},
   "source": [
    "**3)  En utilisant l'équation série impaire, implémenter une fonction**\n",
    "    *MethodeSerieInvCarresImpairs(N)* **renvoyant une approximation du\n",
    "    nombre $\\pi$.**"
   ]
  },
  {
   "cell_type": "code",
   "execution_count": 5,
   "metadata": {},
   "outputs": [],
   "source": [
    "import math  \n",
    "def MethodeSerieInvCarresImpairs(N):\n",
    "    somme = SerieInvCarresImpairs(N)\n",
    "    return math.sqrt(8*somme)"
   ]
  },
  {
   "cell_type": "code",
   "execution_count": 6,
   "metadata": {},
   "outputs": [],
   "source": [
    "import math  \n",
    "def MethodeSerieInvCarres(N):\n",
    "    somme = SerieInvCarres(N)\n",
    "    return math.sqrt((1-1/4)*8*somme)"
   ]
  },
  {
   "cell_type": "code",
   "execution_count": 7,
   "metadata": {},
   "outputs": [
    {
     "data": {
      "text/plain": [
       "3.140955969513533"
      ]
     },
     "execution_count": 7,
     "metadata": {},
     "output_type": "execute_result"
    }
   ],
   "source": [
    "MethodeSerieInvCarresImpairs(500)"
   ]
  },
  {
   "cell_type": "code",
   "execution_count": 8,
   "metadata": {},
   "outputs": [
    {
     "data": {
      "text/plain": [
       "3.139680301095856"
      ]
     },
     "execution_count": 8,
     "metadata": {},
     "output_type": "execute_result"
    }
   ],
   "source": [
    "MethodeSerieInvCarres(500)"
   ]
  },
  {
   "cell_type": "markdown",
   "metadata": {},
   "source": [
    "**4)  Pour chacune des deux méthodes ci-dessus, tracer la courbe\n",
    "    représentant l'évolution de** *$|MethodeSerieXXX(N) - \\pi|$* **en fonction\n",
    "    de $N$**"
   ]
  },
  {
   "cell_type": "code",
   "execution_count": 18,
   "metadata": {},
   "outputs": [],
   "source": [
    "import matplotlib.pyplot as plt\n",
    "import math\n",
    "\n",
    "#Fonction permettant de récupérer deux tableaux de taille n\n",
    "#Un tableau rempli à l'aide des valeurs de 1 à n de MethodeSerieInvCarres(i€[1,n])\n",
    "#Un tableau rempli à l'aide des valeurs de 0 à n de MethodeSerieInvCarresImpairs(i€[0,n])\n",
    "def ValeursDesDeuxMethodes(N):\n",
    "    #Initailisation des varaibles\n",
    "    inv_carre_array = []\n",
    "    inv_carre_impairs_array = []\n",
    "    inv_carre_value = 0\n",
    "    inv_carre_impairs_value = 0\n",
    "    \n",
    "    for i in range(0, N):\n",
    "        if (i != 0):\n",
    "            inv_carre_value = abs(MethodeSerieInvCarres(i)-math.pi)\n",
    "            inv_carre_array.append(inv_carre_value)\n",
    "        inv_carre_impairs_value = abs(MethodeSerieInvCarresImpairs(i)-math.pi)\n",
    "        inv_carre_impairs_array.append(inv_carre_impairs_value)\n",
    "        \n",
    "    return (inv_carre_array, inv_carre_impairs_array)\n",
    "\n",
    "#Fonction permettant de trouver le n pour lequel nous avons pi avec une précision de 10**(-précision)\n",
    "def GetNForPrecision(precision, N):\n",
    "    \n",
    "    i_for_inv_carre_value_precision = 0\n",
    "    i_for_inv_carre_impairs_value_precision = 0\n",
    "    inv_carre_value = 0\n",
    "    inv_carre_impairs_value = 0\n",
    "    precision_pi = math.trunc(math.pi * 10**precision)*10**-(precision)\n",
    "    \n",
    "    for i in range(0, N):\n",
    "        #Si les deux indices n'ont pas encore été trouvé\n",
    "        if (i_for_inv_carre_value_precision == 0 or i_for_inv_carre_impairs_value_precision == 0):\n",
    "            if (i != 0 and i_for_inv_carre_value_precision == 0):\n",
    "                inv_carre_value = abs(MethodeSerieInvCarres(i))\n",
    "                #Si l'on a atteind la précision et que l'indice n'a pas encore été trouvé\n",
    "                if (inv_carre_value >= precision_pi):\n",
    "                    i_for_inv_carre_value_precision = i\n",
    "            if (i_for_inv_carre_impairs_value_precision == 0):\n",
    "                inv_carre_impairs_value = abs(MethodeSerieInvCarresImpairs(i))\n",
    "                #Si l'on a atteind la précision et que l'indice n'a pas encore été trouvé\n",
    "                if (inv_carre_impairs_value >= precision_pi):\n",
    "                    i_for_inv_carre_impairs_value_precision = i\n",
    "        else:\n",
    "            break\n",
    "    #Affichage de la précision\n",
    "    print('Nombre de termes N pour une précision à 10^-',precision, 'pour la méthode inv_carré:', i_for_inv_carre_value_precision)\n",
    "    print('Nombre de termes N pour une précision à 10^-',precision,'pour la méthode inv_carré_impairs:', i_for_inv_carre_impairs_value_precision)\n",
    "    \n",
    "\n",
    "#Fonction permettant de dessiner le graphique\n",
    "def DessinerCourbe(N):\n",
    "    #Récupération des deux tablueax\n",
    "    inv_carre, inv_carre_impairs = ValeursDesDeuxMethodes(N)\n",
    "    #Paramètrage de la figure que l'on va afficher\n",
    "    plt.figure(num=None, figsize=(8, 8), dpi=80, facecolor='w', edgecolor='k')\n",
    "    #Courbe représentant la méthodes des carrés inverses impairs\n",
    "    plt.plot(range(0, N), inv_carre_impairs, label=\"inv_carre_impairs\")\n",
    "    #Courbe représentant la méthodes des carrés inverses\n",
    "    plt.plot(range(1, N), inv_carre, label=\"inv_carre\")\n",
    "    \n",
    "    plt.grid(linestyle='--')\n",
    "    plt.xlabel('x', fontsize=16)\n",
    "    plt.ylabel('y', fontsize=16)\n",
    "    plt.legend()\n",
    "    plt.show()"
   ]
  },
  {
   "cell_type": "code",
   "execution_count": 14,
   "metadata": {},
   "outputs": [
    {
     "data": {
      "image/png": "[encoded data removed]",
      "text/plain": [
       "<Figure size 640x640 with 1 Axes>"
      ]
     },
     "metadata": {},
     "output_type": "display_data"
    }
   ],
   "source": [
    "DessinerCourbe(15)"
   ]
  },
  {
   "cell_type": "markdown",
   "metadata": {},
   "source": [
    "**5)  Pour chacune des deux méthodes ci-dessus, combien faut-il de termes\n",
    "    $N$ dans la somme pour obtenir une approximation de $\\pi$ avec une\n",
    "    précision de l'ordre de $10^{-4}$ ?**"
   ]
  },
  {
   "cell_type": "code",
   "execution_count": 19,
   "metadata": {},
   "outputs": [
    {
     "name": "stdout",
     "output_type": "stream",
     "text": [
      "Nombre de termes N pour une précision à 10^- 4 pour la méthode inv_carré: 10308\n",
      "Nombre de termes N pour une précision à 10^- 4 pour la méthode inv_carré_impairs: 3436\n"
     ]
    }
   ],
   "source": [
    "GetNForPrecision(4, 11300)"
   ]
  },
  {
   "cell_type": "markdown",
   "metadata": {},
   "source": [
    "**6).  Le célèbre mathématicien Ramanujan proposa, de manière\n",
    "    quasi-magique, un certain nombre de formules permettant d'approximer\n",
    "    le nombre $\\pi$. Une des formules proposées peut s'énoncer comme\n",
    "    suit :\n",
    "    $${\\frac {1}{\\pi }}={\\frac {2{\\sqrt {2}}}{9801}}\\displaystyle \\sum _{n=0}^{\\infty }{\\frac {(4n)!}{(n!)^{4}}}\\times {\\frac {1103+26390n}{(4\\times 99)^{4n}}}$$\n",
    "    Implémenter une fonction** *MethodeSerieRamanujan(N)*, **basée sur cette\n",
    "    équation, renvoyant une approximation du nombre $\\pi$.**"
   ]
  },
  {
   "cell_type": "code",
   "execution_count": 41,
   "metadata": {},
   "outputs": [],
   "source": [
    "import math\n",
    "from decimal import Decimal\n",
    "def MethodeSerieRamanujan(N):\n",
    "    somme = 0\n",
    "    for i in range(0, N):\n",
    "        #Calcul du terme i de la somme\n",
    "        somme += Decimal((math.factorial(4*i)/math.factorial(i)**4)*((1103+26390*i)/(4*99)**(4*i)))\n",
    "    somme *= Decimal((2*math.sqrt(2))/9801)\n",
    "    \n",
    "    return Decimal(1/somme)\n",
    "\n",
    "def CalculNombreDecimal(N):\n",
    "    for i in range(0,N):\n",
    "        ram = MethodeSerieRamanujan(i+1)\n",
    "        #Calcul de la différence avec pi\n",
    "        diff = Decimal(math.pi) - ram\n",
    "        #Récupération des données de l'écriture scientifique de la différence\n",
    "        sign, digits, exponent = Decimal(diff).normalize().as_tuple()\n",
    "        #A partir de la troisième itération, la différence est tellement infine que l'on ne trouve aucune différence\n",
    "        print('La', i, 'i-ème itération nous donne', (-1)*(exponent + len(digits)), 'décimales de plus')"
   ]
  },
  {
   "cell_type": "markdown",
   "metadata": {},
   "source": [
    "**7)  Déterminer combien cette méthode fournit de décimales\n",
    "    supplémentaires à $\\pi$ à chaque nouveau terme de la série.**"
   ]
  },
  {
   "cell_type": "code",
   "execution_count": 42,
   "metadata": {},
   "outputs": [
    {
     "name": "stdout",
     "output_type": "stream",
     "text": [
      "La 0 i-ème itération nous donne 7 décimales de plus\n",
      "La 1 i-ème itération nous donne 15 décimales de plus\n",
      "La 2 i-ème itération nous donne 15 décimales de plus\n",
      "La 3 i-ème itération nous donne 15 décimales de plus\n",
      "La 4 i-ème itération nous donne 15 décimales de plus\n",
      "La 5 i-ème itération nous donne 15 décimales de plus\n"
     ]
    }
   ],
   "source": [
    "CalculNombreDecimal(6)"
   ]
  },
  {
   "cell_type": "markdown",
   "metadata": {},
   "source": [
    "**8)  Discuter et comparer l'efficacité des trois méthodes présentées\n",
    "    ci-dessus. Quels peuvent être les avantages et les inconvénients de\n",
    "    chacune ?**"
   ]
  },
  {
   "cell_type": "markdown",
   "metadata": {},
   "source": [
    "On voit rapidement que la méthode de Ramamujan est très performante. En seulement deux itérations, on obtient un pi avec les 15 premières décimales correctes (ce qui est suffisant dans la plus part des applications). On peut imaginer une précision de 8 décimal pour chaque nouvelle itération (on s'aperçoit que la méthode calculant le nombre de décimales gagnées affichera toujours 15 après la troisième itération, c'est parce que python stock les float avec seulement 15 chiffres après la virgule). Cette méthode à beau être performante, elle est très dur à réaliser sans machine (la formule étant lourde). La méthode des séries demande certe plus d'itérations mais à l'avantage d'être facilement posable et calculabe de tête)"
   ]
  },
  {
   "cell_type": "markdown",
   "metadata": {},
   "source": [
    "Méthode de Monte-Carlo\n",
    "======================\n",
    "\n",
    "\\\"Le terme \\\"méthode de Monte-Carlo\\\", ou \\\"méthode Monte-Carlo\\\",\n",
    "désigne une famille de méthodes algorithmiques visant à calculer une\n",
    "valeur numérique approchée en utilisant des procédés aléatoires,\n",
    "c'est-à-dire des techniques probabilistes. Le nom de ces méthodes, qui\n",
    "fait allusion aux jeux de hasard pratiqués à Monte-Carlo, a été inventé\n",
    "en 1947 par Nicholas Metropolis.\\\"\n",
    "\n",
    " \n",
    "\n",
    "On se propose d'utiliser cette méthode pour obtenir une approximation du\n",
    "nombre $\\pi$. Considérons $\\mathcal{D}$ la portion de disque définie par :\n",
    "\n",
    "$$\\mathcal{D} = \\{ (x,y) \\in \\mathbb{R}^{+} ~|~ x^2 + y^2 \\leqslant 1 \\}$$\n",
    "\n",
    "Le principe de la méthode est de choisir aléatoirement un grand nombre\n",
    "de points dans le carré $[0,1]\\times [0,1]$ et d'observer combien de ces\n",
    "points se situent dans le quart de disque $\\mathcal{D}$. On notera $n$\n",
    "le nombre de points tirés, et $k_n$ le nombre de ces points qui se\n",
    "situent dans $\\mathcal{D}$."
   ]
  },
  {
   "cell_type": "markdown",
   "metadata": {},
   "source": [
    "**1)  Déterminer l'aire de la portion de disque $\\mathcal{D}$. En se\n",
    "    basant sur le calcul précédent, quel à votre avis la valeur de\n",
    "    $\\lim\\limits_{n \\to \\infty} \\frac{k_n}{n}$ ?**"
   ]
  },
  {
   "cell_type": "markdown",
   "metadata": {},
   "source": [
    "$$Aire_{cercle} = {\\pi.r^2}$$\n",
    "Or ici $${r} = \\sqrt1 = 1$$\n",
    "Donc $$Aire_{cercle} = {\\pi}$$\n",
    "D'où $$Aire_{D} = {\\pi\\over4}$$\n",
    "\n",
    "On peut donc imaginer que : $$\\lim_{n \\to \\infty} {k_n \\over n} = {\\pi \\over 4}$$"
   ]
  },
  {
   "cell_type": "markdown",
   "metadata": {},
   "source": [
    "**2)  Implémenter une fonction *Tirage(n)* permettant de tirer $n$ points\n",
    "    dans $[0,1]\\times [0,1]$ et de calculer $\\frac{k_n}{n}$.**"
   ]
  },
  {
   "cell_type": "code",
   "execution_count": 2,
   "metadata": {},
   "outputs": [],
   "source": [
    "import random\n",
    "import math\n",
    "\n",
    "#Retourne un tableau de x et un de y (tous deux de taille n) remplis avec des valeurs aléatoires en 0 et 1 compris\n",
    "def Tirage(n):\n",
    "    points = []\n",
    "    for i in range(0, n):\n",
    "        x = random.uniform(0, 1)\n",
    "        y = random.uniform(0, 1)\n",
    "        points.append([x, y])\n",
    "    return points\n",
    "    \n",
    "\n",
    "#Calcul k/n grâce au tirage aléatoire\n",
    "def CalculQuotient(tirages):\n",
    "    k = 0\n",
    "    for i in range(0, len(tirages)):\n",
    "        x = tirages[i][0]\n",
    "        y = tirages[i][1]\n",
    "        if (math.pow(x, 2) + math.pow(y,2) <= 1):\n",
    "            k += 1\n",
    "    return k/len(tirages)\n",
    "    "
   ]
  },
  {
   "cell_type": "code",
   "execution_count": 66,
   "metadata": {
    "scrolled": false
   },
   "outputs": [
    {
     "data": {
      "text/plain": [
       "0.7833"
      ]
     },
     "execution_count": 66,
     "metadata": {},
     "output_type": "execute_result"
    }
   ],
   "source": [
    "CalculQuotient(Tirage(20000))"
   ]
  },
  {
   "cell_type": "markdown",
   "metadata": {},
   "source": [
    "**3)  Représenter le carré $[0,1]\\times [0,1]$, le disque $\\mathcal{D}$\n",
    "    (ou seulement le cercle associé), et le tirage des $n$ points, en\n",
    "    colorant de manière différente les points à l'intérieur et à\n",
    "    l'extérieur du disque $\\mathcal{D}$.**"
   ]
  },
  {
   "cell_type": "code",
   "execution_count": 3,
   "metadata": {},
   "outputs": [],
   "source": [
    "import numpy as np\n",
    "import matplotlib.pyplot as plt\n",
    "\n",
    "#Construit le tableau des couleurs\n",
    "def GetColors(in_circle_color, out_circle_color, x_array, y_array):\n",
    "    colors = []\n",
    "    for x_value, y_value in zip(x_array,y_array):\n",
    "        if (x_value**2+y_value**2 <= 1):\n",
    "            colors.append(in_circle_color)\n",
    "        else:\n",
    "            colors.append(out_circle_color)\n",
    "    return colors\n",
    "\n",
    "\n",
    "#Sépare le tableau de dimension 2 en 2 tableaux de dimension 1\n",
    "def SplitArray(n):\n",
    "    points=np.array(Tirage(n))\n",
    "    x = points[:, 0]\n",
    "    y = points[:, 1]\n",
    "    return (x,y)\n",
    "    \n",
    "#Dessine la figure\n",
    "def DrawMonteCarlo(nb_points):    \n",
    "    plt.figure(num=None, figsize=(8, 8), dpi=80, facecolor='w', edgecolor='k')\n",
    "    \n",
    "    rectangle = plt.Rectangle((0,0), 1, 1, fc='black', alpha=0.3)\n",
    "    circle= plt.Circle((0,0), radius= 1, alpha=0.7, linewidth=2, fill=False)\n",
    "    x_values, y_values = SplitArray(nb_points)\n",
    "    colors = GetColors('red', 'purple', x_values, y_values)\n",
    "    \n",
    "    ax = plt.gca()\n",
    "    ax.scatter(x_values,y_values,c=colors,marker='o',s=5)\n",
    "    ax.add_patch(circle)\n",
    "    ax.add_patch(rectangle)\n",
    "\n",
    "    plt.axis('scaled')\n",
    "    plt.xlabel('x', fontsize=16)\n",
    "    plt.ylabel('y', fontsize=16)\n",
    "    plt.grid(linestyle='--')\n",
    "    plt.show()\n"
   ]
  },
  {
   "cell_type": "code",
   "execution_count": 72,
   "metadata": {},
   "outputs": [
    {
     "data": {
      "image/png": "[encoded data removed]",
      "text/plain": [
       "<Figure size 640x640 with 1 Axes>"
      ]
     },
     "metadata": {},
     "output_type": "display_data"
    }
   ],
   "source": [
    "DrawMonteCarlo(100)"
   ]
  },
  {
   "cell_type": "markdown",
   "metadata": {},
   "source": [
    "**4)  Implémenter une fonction** *MonteCarlo(n)* **renvoyant une approximation\n",
    "    de $\\pi$.**"
   ]
  },
  {
   "cell_type": "code",
   "execution_count": 4,
   "metadata": {},
   "outputs": [],
   "source": [
    "def MonteCarlo(n):\n",
    "    return (CalculQuotient(Tirage(n)))*4\n",
    "\n",
    "def MonteCarloWithArray(array):\n",
    "    return (CalculQuotient(array))*4"
   ]
  },
  {
   "cell_type": "code",
   "execution_count": 116,
   "metadata": {},
   "outputs": [
    {
     "data": {
      "text/plain": [
       "3.103"
      ]
     },
     "execution_count": 116,
     "metadata": {},
     "output_type": "execute_result"
    }
   ],
   "source": [
    "MonteCarlo(4000)"
   ]
  },
  {
   "cell_type": "markdown",
   "metadata": {},
   "source": [
    "**5)  Représenter sous forme de nuage de points la quantité\n",
    "    $|MonteCarlo(n) - \\pi|$ en fonction de $n$. La méthode\n",
    "    converge-t-elle ? Dans quel sens ?**"
   ]
  },
  {
   "cell_type": "code",
   "execution_count": 77,
   "metadata": {},
   "outputs": [],
   "source": [
    "import matplotlib.pyplot as plt\n",
    "import math\n",
    "def AfficherNuage(n):\n",
    "    tirage = Tirage(n)\n",
    "    monte_carlo = []\n",
    "    for i in range(1, n):\n",
    "        carlo = MonteCarloWithArray(tirage[0:i])\n",
    "        monte_carlo.append(abs(carlo-math.pi))\n",
    "        \n",
    "    plt.figure(num=None, figsize=(10, 8), facecolor='w', edgecolor='k')\n",
    "    ax = plt.gca()\n",
    "    plt.grid(linestyle='--')\n",
    "    \n",
    "    ax.scatter(range(1, n),monte_carlo,c='red',marker='o',s=5)\n",
    "    plt.xlabel('n', fontsize=16)\n",
    "    plt.ylabel('|MonteCarlo(n) - π|', fontsize=16)\n",
    "    plt.show()\n",
    "    \n",
    "def TiragesMoyens(precision, nb_tirages, nb_points):\n",
    "    precision_pi = math.trunc(math.pi * 10**precision)*10**-(precision)\n",
    "    somme_indice = 0\n",
    "    #On lance nos tirages\n",
    "    for i in range(0, nb_tirages):\n",
    "        #Chacune des variables sont réinitialisées\n",
    "        carlo = 0\n",
    "        tirage = Tirage(nb_points)\n",
    "        ##Affichage du tirage courrant\n",
    "        print('---- Tirage n°', i+1, '----')\n",
    "        for p in range(1, nb_points):\n",
    "            #On calcul le Monte Carlo en tronquant à 10**(-précision)\n",
    "            carlo = math.trunc(MonteCarloWithArray(tirage[0:p]) * 10**precision)*10**-(precision)\n",
    "            #Si il vaut la valeur de pi à la précision donné\n",
    "            if(carlo == precision_pi):\n",
    "                #On l'ajoute à la somme\n",
    "                somme_indice += p\n",
    "                print('Premièr \\'bon\\' pi rencontré à :', p)\n",
    "                #On passe au prochain tirage\n",
    "                break\n",
    "    print('Moyenne de point qu\\'il faut tirer pour obtenir pi à 10**-',precision, ': ', math.trunc(somme_indice/nb_tirages))\n",
    "    "
   ]
  },
  {
   "cell_type": "code",
   "execution_count": 78,
   "metadata": {
    "scrolled": false
   },
   "outputs": [
    {
     "data": {
      "image/png": "[encoded data removed]",
      "text/plain": [
       "<Figure size 720x576 with 1 Axes>"
      ]
     },
     "metadata": {},
     "output_type": "display_data"
    }
   ],
   "source": [
    "AfficherNuage(40)"
   ]
  },
  {
   "cell_type": "markdown",
   "metadata": {},
   "source": [
    "La méthode semble converger vers 0 positivement"
   ]
  },
  {
   "cell_type": "markdown",
   "metadata": {},
   "source": [
    "**6).  Combien faut-il tirer de points $n$ (en moyenne) pour obtenir une\n",
    "    approximation de $\\pi$ avec une précision de l'ordre de $10^{-4}$ ?**"
   ]
  },
  {
   "cell_type": "code",
   "execution_count": 79,
   "metadata": {},
   "outputs": [
    {
     "name": "stdout",
     "output_type": "stream",
     "text": [
      "---- Tirage n° 1 ----\n",
      "Première 'bon' pi rencontré à : 3178\n",
      "---- Tirage n° 2 ----\n",
      "---- Tirage n° 3 ----\n",
      "---- Tirage n° 4 ----\n",
      "---- Tirage n° 5 ----\n",
      "Première 'bon' pi rencontré à : 3830\n",
      "---- Tirage n° 6 ----\n",
      "Première 'bon' pi rencontré à : 1053\n",
      "---- Tirage n° 7 ----\n",
      "Première 'bon' pi rencontré à : 657\n",
      "---- Tirage n° 8 ----\n",
      "---- Tirage n° 9 ----\n",
      "---- Tirage n° 10 ----\n",
      "Première 'bon' pi rencontré à : 890\n",
      "---- Tirage n° 11 ----\n",
      "---- Tirage n° 12 ----\n",
      "Première 'bon' pi rencontré à : 4231\n",
      "---- Tirage n° 13 ----\n",
      "Première 'bon' pi rencontré à : 876\n",
      "---- Tirage n° 14 ----\n",
      "---- Tirage n° 15 ----\n",
      "Première 'bon' pi rencontré à : 3602\n",
      "---- Tirage n° 16 ----\n",
      "Première 'bon' pi rencontré à : 2041\n",
      "---- Tirage n° 17 ----\n",
      "Première 'bon' pi rencontré à : 219\n",
      "---- Tirage n° 18 ----\n",
      "Première 'bon' pi rencontré à : 1067\n",
      "---- Tirage n° 19 ----\n",
      "Première 'bon' pi rencontré à : 219\n",
      "---- Tirage n° 20 ----\n",
      "Première 'bon' pi rencontré à : 219\n",
      "---- Tirage n° 21 ----\n",
      "Première 'bon' pi rencontré à : 452\n",
      "---- Tirage n° 22 ----\n",
      "Première 'bon' pi rencontré à : 1901\n",
      "---- Tirage n° 23 ----\n",
      "Première 'bon' pi rencontré à : 1053\n",
      "---- Tirage n° 24 ----\n",
      "---- Tirage n° 25 ----\n",
      "Première 'bon' pi rencontré à : 4678\n",
      "---- Tirage n° 26 ----\n",
      "Première 'bon' pi rencontré à : 424\n",
      "---- Tirage n° 27 ----\n",
      "Première 'bon' pi rencontré à : 1752\n",
      "---- Tirage n° 28 ----\n",
      "Première 'bon' pi rencontré à : 2945\n",
      "---- Tirage n° 29 ----\n",
      "Première 'bon' pi rencontré à : 1095\n",
      "---- Tirage n° 30 ----\n",
      "Première 'bon' pi rencontré à : 3341\n",
      "---- Tirage n° 31 ----\n",
      "Première 'bon' pi rencontré à : 1724\n",
      "---- Tirage n° 32 ----\n",
      "---- Tirage n° 33 ----\n",
      "Première 'bon' pi rencontré à : 1053\n",
      "---- Tirage n° 34 ----\n",
      "Première 'bon' pi rencontré à : 219\n",
      "---- Tirage n° 35 ----\n",
      "---- Tirage n° 36 ----\n",
      "Première 'bon' pi rencontré à : 1300\n",
      "---- Tirage n° 37 ----\n",
      "---- Tirage n° 38 ----\n",
      "Première 'bon' pi rencontré à : 848\n",
      "---- Tirage n° 39 ----\n",
      "---- Tirage n° 40 ----\n",
      "Première 'bon' pi rencontré à : 1589\n",
      "---- Tirage n° 41 ----\n",
      "---- Tirage n° 42 ----\n",
      "Première 'bon' pi rencontré à : 2176\n",
      "---- Tirage n° 43 ----\n",
      "---- Tirage n° 44 ----\n",
      "---- Tirage n° 45 ----\n",
      "Première 'bon' pi rencontré à : 4762\n",
      "---- Tirage n° 46 ----\n",
      "Première 'bon' pi rencontré à : 1971\n",
      "---- Tirage n° 47 ----\n",
      "Première 'bon' pi rencontré à : 3849\n",
      "---- Tirage n° 48 ----\n",
      "Première 'bon' pi rencontré à : 3010\n",
      "---- Tirage n° 49 ----\n",
      "Première 'bon' pi rencontré à : 1314\n",
      "---- Tirage n° 50 ----\n",
      "Première 'bon' pi rencontré à : 1957\n",
      "---- Tirage n° 51 ----\n",
      "Première 'bon' pi rencontré à : 4380\n",
      "---- Tirage n° 52 ----\n",
      "Première 'bon' pi rencontré à : 219\n",
      "---- Tirage n° 53 ----\n",
      "Première 'bon' pi rencontré à : 2530\n",
      "---- Tirage n° 54 ----\n",
      "Première 'bon' pi rencontré à : 219\n",
      "---- Tirage n° 55 ----\n",
      "---- Tirage n° 56 ----\n",
      "Première 'bon' pi rencontré à : 657\n",
      "---- Tirage n° 57 ----\n",
      "Première 'bon' pi rencontré à : 1696\n",
      "---- Tirage n° 58 ----\n",
      "Première 'bon' pi rencontré à : 1985\n",
      "---- Tirage n° 59 ----\n",
      "Première 'bon' pi rencontré à : 643\n",
      "---- Tirage n° 60 ----\n",
      "---- Tirage n° 61 ----\n",
      "Première 'bon' pi rencontré à : 3942\n",
      "---- Tirage n° 62 ----\n",
      "Première 'bon' pi rencontré à : 643\n",
      "---- Tirage n° 63 ----\n",
      "---- Tirage n° 64 ----\n",
      "---- Tirage n° 65 ----\n",
      "---- Tirage n° 66 ----\n",
      "Première 'bon' pi rencontré à : 2954\n",
      "---- Tirage n° 67 ----\n",
      "---- Tirage n° 68 ----\n",
      "---- Tirage n° 69 ----\n",
      "Première 'bon' pi rencontré à : 876\n",
      "---- Tirage n° 70 ----\n",
      "---- Tirage n° 71 ----\n",
      "Première 'bon' pi rencontré à : 904\n",
      "---- Tirage n° 72 ----\n",
      "Première 'bon' pi rencontré à : 1477\n",
      "---- Tirage n° 73 ----\n",
      "Première 'bon' pi rencontré à : 1081\n",
      "---- Tirage n° 74 ----\n",
      "Première 'bon' pi rencontré à : 219\n",
      "---- Tirage n° 75 ----\n",
      "Première 'bon' pi rencontré à : 3616\n",
      "---- Tirage n° 76 ----\n",
      "Première 'bon' pi rencontré à : 671\n",
      "---- Tirage n° 77 ----\n",
      "---- Tirage n° 78 ----\n",
      "---- Tirage n° 79 ----\n",
      "Première 'bon' pi rencontré à : 219\n",
      "---- Tirage n° 80 ----\n",
      "Première 'bon' pi rencontré à : 219\n",
      "---- Tirage n° 81 ----\n",
      "Première 'bon' pi rencontré à : 2572\n",
      "---- Tirage n° 82 ----\n",
      "Première 'bon' pi rencontré à : 1589\n",
      "---- Tirage n° 83 ----\n",
      "Première 'bon' pi rencontré à : 2670\n",
      "---- Tirage n° 84 ----\n",
      "Première 'bon' pi rencontré à : 1067\n",
      "---- Tirage n° 85 ----\n",
      "Première 'bon' pi rencontré à : 1342\n",
      "---- Tirage n° 86 ----\n",
      "---- Tirage n° 87 ----\n",
      "Première 'bon' pi rencontré à : 219\n",
      "---- Tirage n° 88 ----\n",
      "---- Tirage n° 89 ----\n",
      "Première 'bon' pi rencontré à : 2148\n",
      "---- Tirage n° 90 ----\n",
      "---- Tirage n° 91 ----\n",
      "---- Tirage n° 92 ----\n",
      "---- Tirage n° 93 ----\n",
      "Première 'bon' pi rencontré à : 4035\n",
      "---- Tirage n° 94 ----\n",
      "Première 'bon' pi rencontré à : 438\n",
      "---- Tirage n° 95 ----\n",
      "Première 'bon' pi rencontré à : 438\n",
      "---- Tirage n° 96 ----\n",
      "Première 'bon' pi rencontré à : 2381\n",
      "---- Tirage n° 97 ----\n",
      "Première 'bon' pi rencontré à : 904\n",
      "---- Tirage n° 98 ----\n",
      "Première 'bon' pi rencontré à : 1286\n",
      "---- Tirage n° 99 ----\n",
      "Première 'bon' pi rencontré à : 1561\n",
      "---- Tirage n° 100 ----\n",
      "Première 'bon' pi rencontré à : 3653\n",
      "Moyenne de point qu'il faut tirer pour obtenir pi à 10**- 4 :  1209\n"
     ]
    }
   ],
   "source": [
    "TiragesMoyens(4,100,5000)"
   ]
  },
  {
   "cell_type": "markdown",
   "metadata": {},
   "source": [
    "**7) Quels sont les inconvénients et les avantages de cette méthode par\n",
    "    rapport aux méthodes des séries ?**"
   ]
  },
  {
   "cell_type": "markdown",
   "metadata": {},
   "source": [
    "La méthode dite de Monte Carlo à l'avantage d'être plus rapide que la méthode des séries mais à l'inconvient d'être beaucoup moins précise que ces deux dernières méthodes. De plus la précision de la valeur de pi finale ne dépend pas du nombre de points que l'on donne mais plutôt de notre 'chance'. Comme le montre la fonction 'TiragesMoyens', obtenir une valeur de pi à $10^{-4}$ peut nécessiter seulement 500 tirages dans certains cas et 3000 dans d'autre"
   ]
  },
  {
   "cell_type": "markdown",
   "metadata": {},
   "source": [
    "Ouverture\n",
    "=========\n",
    "\n",
    "-   Citer au moins une autre méthode (basée sur un principe mathématique\n",
    "    différent) permettant d'approximer le nombre $\\pi$ et expliquer\n",
    "    brièvement son principe."
   ]
  },
  {
   "cell_type": "markdown",
   "metadata": {},
   "source": [
    "On peut approximer la valeur de $\\pi$ avec la méhtode des rectangles.\n",
    "Pour se faire, on se donne un quart de cercle dans $[0,1]\\times[0,1]$ d'équation \n",
    "$f(x) = \\sqrt{1-x^2}$.\n",
    "On peut alors découper ce demi-cercle en rectangle de surface  ${1\\over n}.f({1\\over n})$ avec $n \\in \\mathbb{N}^* $ et $n$ le nombre de rectangles désirés.\n",
    "On remarqura que la somme de ces aires coverge vers $\\pi \\over 4$ quand $n \\to \\infty$"
   ]
  },
  {
   "cell_type": "markdown",
   "metadata": {},
   "source": [
    "-   (Bonus -- Pour les plus passionnés) Imaginer une nouvelle méthode\n",
    "    permettant d'obtenir une approximation du nombre $\\pi$."
   ]
  },
  {
   "cell_type": "markdown",
   "metadata": {},
   "source": []
  },
  {
   "cell_type": "markdown",
   "metadata": {},
   "source": [
    "Rendu du projet\n",
    "===============\n",
    "\n",
    "Le travail sur ce projet est à faire par binôme (2 personnes maximum).\n",
    "Le travail sera restitué sous la forme d'un Notebook.\n",
    "Le projet est à rendre sur Moodle.\n",
    "\n",
    "\n",
    "\n",
    "Le Notebook doit répondre à toutes les questions\n",
    "posées dans l'énoncé, implémenter les algorithmes demandés,\n",
    "et si cela s'avère nécessaire expliquer comment ces algorithmes\n",
    "ont été implémentés en pratique.\n",
    "Le Notebook se terminera par une discussion des résultats\n",
    "et une conclusion.\n",
    "La qualité, propreté et clarté de la rédaction seront pris en compte."
   ]
  }
 ],
 "metadata": {
  "kernelspec": {
   "display_name": "Python 3",
   "language": "python",
   "name": "python3"
  },
  "language_info": {
   "codemirror_mode": {
    "name": "ipython",
    "version": 3
   },
   "file_extension": ".py",
   "mimetype": "text/x-python",
   "name": "python",
   "nbconvert_exporter": "python",
   "pygments_lexer": "ipython3",
   "version": "3.6.9"
  }
 },
 "nbformat": 4,
 "nbformat_minor": 2
}
