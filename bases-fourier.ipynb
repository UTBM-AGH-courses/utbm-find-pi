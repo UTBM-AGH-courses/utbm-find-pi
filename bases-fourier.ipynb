{
 "cells": [
  {
   "cell_type": "markdown",
   "metadata": {},
   "source": [
    "Décomposition en série de Fourier d'une fonction $f$ sur $[-\\pi,\\pi]$\n",
    "-----\n",
    "La fonction $f(x)$ s'écrit sur cet intervalle\n",
    "$$\n",
    "f(x) = \\frac{a_0}{2} + \\sum_n a_n \\cos(nx) + \\sum_n b_n \\sin(nx)\n",
    "$$\n",
    "avec\n",
    "$$\n",
    "a_0 = \\frac{1}{\\pi} \\int_{-\\pi}^\\pi f(x) dx\n",
    "$$\n",
    "$$\n",
    "a_n = \\frac{1}{\\pi} \\int_{-\\pi}^\\pi f(x) \\cos(nx) dx\n",
    "$$\n",
    "$$\n",
    "b_n = \\frac{1}{\\pi} \\int_{-\\pi}^\\pi f(x) \\sin(nx) dx\n",
    "$$\n",
    "Si $f$ est paire alors $b_n=0$, si $f$ est impaire alors $a_n=0$."
   ]
  },
  {
   "cell_type": "code",
   "execution_count": 1,
   "metadata": {},
   "outputs": [],
   "source": [
    "# Pour permettre les calculs formels\n",
    "from sympy import *\n",
    "import numpy as np\n",
    "#  pour automatiquement afficher les résultats avec jsmath\n",
    "init_printing()\n",
    "x = Symbol('x')\n",
    "n = Symbol('n', positive=True, integer=True)"
   ]
  },
  {
   "cell_type": "code",
   "execution_count": 2,
   "metadata": {},
   "outputs": [],
   "source": [
    "def a0(f):\n",
    "    return(integrate(f,(x,-pi,pi))/pi)\n",
    "def an(f):\n",
    "    return(integrate(f*cos(n*x),(x,-pi,pi))/pi)\n",
    "def bn(f):\n",
    "    return(integrate(f*sin(n*x),(x,-pi,pi))/pi)"
   ]
  },
  {
   "cell_type": "code",
   "execution_count": 4,
   "metadata": {},
   "outputs": [
    {
     "data": {
      "image/png": "[encoded data removed]",
      "text/latex": [
       "$\\displaystyle \\left[ 0, \\  0, \\  - \\frac{2 \\left(-1\\right)^{n}}{n}\\right]$"
      ],
      "text/plain": [
       "⎡             n ⎤\n",
       "⎢      -2⋅(-1)  ⎥\n",
       "⎢0, 0, ─────────⎥\n",
       "⎣          n    ⎦"
      ]
     },
     "execution_count": 4,
     "metadata": {},
     "output_type": "execute_result"
    }
   ],
   "source": [
    "f = x\n",
    "[a0(f), an(f), bn(f)]"
   ]
  },
  {
   "cell_type": "code",
   "execution_count": 5,
   "metadata": {},
   "outputs": [],
   "source": [
    "def serieFourier(f, N):\n",
    "    gn = an(f)*cos(n*x) + bn(f)*sin(n*x)\n",
    "    g = a0(f)/2\n",
    "    for i in range(N):\n",
    "        g =  g + gn.subs({n:i+1})\n",
    "    return g"
   ]
  },
  {
   "cell_type": "code",
   "execution_count": 6,
   "metadata": {},
   "outputs": [
    {
     "data": {
      "image/png": "[encoded data removed]",
      "text/latex": [
       "$\\displaystyle 2 \\sin{\\left(x \\right)} - \\sin{\\left(2 x \\right)} + \\frac{2 \\sin{\\left(3 x \\right)}}{3} - \\frac{\\sin{\\left(4 x \\right)}}{2} + \\frac{2 \\sin{\\left(5 x \\right)}}{5} - \\frac{\\sin{\\left(6 x \\right)}}{3} + \\frac{2 \\sin{\\left(7 x \\right)}}{7} - \\frac{\\sin{\\left(8 x \\right)}}{4} + \\frac{2 \\sin{\\left(9 x \\right)}}{9} - \\frac{\\sin{\\left(10 x \\right)}}{5} + \\frac{2 \\sin{\\left(11 x \\right)}}{11} - \\frac{\\sin{\\left(12 x \\right)}}{6} + \\frac{2 \\sin{\\left(13 x \\right)}}{13} - \\frac{\\sin{\\left(14 x \\right)}}{7} + \\frac{2 \\sin{\\left(15 x \\right)}}{15} - \\frac{\\sin{\\left(16 x \\right)}}{8} + \\frac{2 \\sin{\\left(17 x \\right)}}{17} - \\frac{\\sin{\\left(18 x \\right)}}{9} + \\frac{2 \\sin{\\left(19 x \\right)}}{19} - \\frac{\\sin{\\left(20 x \\right)}}{10}$"
      ],
      "text/plain": [
       "                      2⋅sin(3⋅x)   sin(4⋅x)   2⋅sin(5⋅x)   sin(6⋅x)   2⋅sin(7⋅\n",
       "2⋅sin(x) - sin(2⋅x) + ────────── - ──────── + ────────── - ──────── + ────────\n",
       "                          3           2           5           3           7   \n",
       "\n",
       "x)   sin(8⋅x)   2⋅sin(9⋅x)   sin(10⋅x)   2⋅sin(11⋅x)   sin(12⋅x)   2⋅sin(13⋅x)\n",
       "── - ──────── + ────────── - ───────── + ─────────── - ───────── + ───────────\n",
       "        4           9            5            11           6            13    \n",
       "\n",
       "   sin(14⋅x)   2⋅sin(15⋅x)   sin(16⋅x)   2⋅sin(17⋅x)   sin(18⋅x)   2⋅sin(19⋅x)\n",
       " - ───────── + ─────────── - ───────── + ─────────── - ───────── + ───────────\n",
       "       7            15           8            17           9            19    \n",
       "\n",
       "   sin(20⋅x)\n",
       " - ─────────\n",
       "       10   "
      ]
     },
     "execution_count": 6,
     "metadata": {},
     "output_type": "execute_result"
    }
   ],
   "source": [
    "sN=serieFourier(f,20)\n",
    "sN"
   ]
  },
  {
   "cell_type": "code",
   "execution_count": 7,
   "metadata": {},
   "outputs": [
    {
     "data": {
      "text/plain": [
       "<Figure size 800x600 with 1 Axes>"
      ]
     },
     "metadata": {},
     "output_type": "display_data"
    }
   ],
   "source": [
    "# pour tracer des courbes\n",
    "import matplotlib.pyplot as plt\n",
    "sample = lambda vx,p : [p.subs({x:i}) for i in vx]\n",
    "\n",
    "def plot2(sN, f):\n",
    "    sx = np.linspace(-6*np.pi, 6*np.pi, 400)\n",
    "    sy = sample(sx,sN)\n",
    "\n",
    "    fx = np.linspace(-np.pi, np.pi, 400)\n",
    "    fy = sample(fx,f)\n",
    "\n",
    "    plt.figure(figsize=(8, 6))\n",
    "    plt.plot(sx, sy, linewidth=1 , color='crimson' ,label='$s_N(x)$')\n",
    "    plt.plot(fx, fy, linewidth=1 , color='blue' ,label='$f(x)$')\n",
    "    plt.title('Serie de Fourier')\n",
    "    plt.grid()\n",
    "    plt.axis([-6*np.pi, 6*np.pi, -4, 4])\n",
    "    plt.legend()\n",
    "    plt.show()\n",
    "plot2(sN,f)"
   ]
  },
  {
   "cell_type": "code",
   "execution_count": null,
   "metadata": {},
   "outputs": [],
   "source": []
  }
 ],
 "metadata": {
  "anaconda-cloud": {},
  "kernelspec": {
   "display_name": "Python 3",
   "language": "python",
   "name": "python3"
  },
  "language_info": {
   "codemirror_mode": {
    "name": "ipython",
    "version": 3
   },
   "file_extension": ".py",
   "mimetype": "text/x-python",
   "name": "python",
   "nbconvert_exporter": "python",
   "pygments_lexer": "ipython3",
   "version": "3.6.9"
  }
 },
 "nbformat": 4,
 "nbformat_minor": 1
}
